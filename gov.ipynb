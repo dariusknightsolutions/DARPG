{
  "nbformat": 4,
  "nbformat_minor": 0,
  "metadata": {
    "colab": {
      "name": "gov.ipynb",
      "provenance": [],
      "collapsed_sections": []
    },
    "kernelspec": {
      "name": "python3",
      "display_name": "Python 3"
    },
    "accelerator": "GPU"
  },
  "cells": [
    {
      "cell_type": "code",
      "metadata": {
        "id": "EZpcBZUgU40h",
        "colab_type": "code",
        "outputId": "3b4068da-0572-4d2f-c7b6-8e0f4c9405fc",
        "colab": {
          "base_uri": "https://localhost:8080/",
          "height": 122
        }
      },
      "source": [
        "from google.colab import drive\n",
        "drive.mount('/content/drive', force_remount=True)"
      ],
      "execution_count": 2,
      "outputs": [
        {
          "output_type": "stream",
          "text": [
            "Go to this URL in a browser: https://accounts.google.com/o/oauth2/auth?client_id=947318989803-6bn6qk8qdgf4n4g3pfee6491hc0brc4i.apps.googleusercontent.com&redirect_uri=urn%3aietf%3awg%3aoauth%3a2.0%3aoob&response_type=code&scope=email%20https%3a%2f%2fwww.googleapis.com%2fauth%2fdocs.test%20https%3a%2f%2fwww.googleapis.com%2fauth%2fdrive%20https%3a%2f%2fwww.googleapis.com%2fauth%2fdrive.photos.readonly%20https%3a%2f%2fwww.googleapis.com%2fauth%2fpeopleapi.readonly\n",
            "\n",
            "Enter your authorization code:\n",
            "··········\n",
            "Mounted at /content/drive\n"
          ],
          "name": "stdout"
        }
      ]
    },
    {
      "cell_type": "code",
      "metadata": {
        "id": "1u5EMo7-Xogb",
        "colab_type": "code",
        "colab": {}
      },
      "source": [
        "import os\n",
        "os.chdir('/content/drive/My Drive/Colab Notebooks/gov')"
      ],
      "execution_count": 0,
      "outputs": []
    },
    {
      "cell_type": "code",
      "metadata": {
        "id": "1n4I3czzXoeD",
        "colab_type": "code",
        "colab": {}
      },
      "source": [
        "import pandas as pd\n",
        "from nltk.tokenize import word_tokenize\n",
        "import re"
      ],
      "execution_count": 0,
      "outputs": []
    },
    {
      "cell_type": "code",
      "metadata": {
        "id": "nFmx7YFHNoN3",
        "colab_type": "code",
        "colab": {
          "base_uri": "https://localhost:8080/",
          "height": 80
        },
        "outputId": "5c27b76f-f9b4-4fad-fb61-75d1903714bf"
      },
      "source": [
        "from keras.preprocessing.text import Tokenizer\n",
        "from keras.preprocessing.sequence import pad_sequences\n",
        "from keras.models import Sequential\n",
        "from keras.layers import Dense, Embedding, LSTM, SpatialDropout1D\n",
        "from sklearn.model_selection import train_test_split\n",
        "from keras.utils.np_utils import to_categorical\n",
        "from keras.callbacks import EarlyStopping\n",
        "from keras.layers import Dropout\n",
        "import re\n",
        "from nltk.corpus import stopwords\n",
        "from nltk import word_tokenize"
      ],
      "execution_count": 5,
      "outputs": [
        {
          "output_type": "stream",
          "text": [
            "Using TensorFlow backend.\n"
          ],
          "name": "stderr"
        },
        {
          "output_type": "display_data",
          "data": {
            "text/html": [
              "<p style=\"color: red;\">\n",
              "The default version of TensorFlow in Colab will soon switch to TensorFlow 2.x.<br>\n",
              "We recommend you <a href=\"https://www.tensorflow.org/guide/migrate\" target=\"_blank\">upgrade</a> now \n",
              "or ensure your notebook will continue to use TensorFlow 1.x via the <code>%tensorflow_version 1.x</code> magic:\n",
              "<a href=\"https://colab.research.google.com/notebooks/tensorflow_version.ipynb\" target=\"_blank\">more info</a>.</p>\n"
            ],
            "text/plain": [
              "<IPython.core.display.HTML object>"
            ]
          },
          "metadata": {
            "tags": []
          }
        }
      ]
    },
    {
      "cell_type": "code",
      "metadata": {
        "id": "-jXF99X4Xocc",
        "colab_type": "code",
        "colab": {}
      },
      "source": [
        "cpgram = pd.read_csv(\"/content/drive/My Drive/Colab Notebooks/gov/cpgrams.csv\", encoding='latin1')\n",
        "movement_cpgram = pd.read_csv(\"/content/drive/My Drive/Colab Notebooks/gov/cpgrams_movement.csv\")"
      ],
      "execution_count": 0,
      "outputs": []
    },
    {
      "cell_type": "code",
      "metadata": {
        "id": "jc0RKSzHXoau",
        "colab_type": "code",
        "colab": {}
      },
      "source": [
        "cpgram_grp = cpgram.groupby('registration_no')\n",
        "cpgram_grp_df = pd.DataFrame(cpgram_grp)\n",
        "\n",
        "reg_no_cpg = cpgram['registration_no'].unique()\n",
        "reg_no_mov_cpg = movement_cpgram['registration_no'].unique()\n",
        "len(reg_no_cpg)\n",
        "\n",
        "complaint = pd.DataFrame(cpgram_grp.first())\n",
        "len(complaint.index)\n",
        "complaints = complaint.subject_content\n",
        "complaints = complaints.reset_index()"
      ],
      "execution_count": 0,
      "outputs": []
    },
    {
      "cell_type": "code",
      "metadata": {
        "id": "2J_AB3vFXoZE",
        "colab_type": "code",
        "colab": {}
      },
      "source": [
        "def text_clean_one():\n",
        "    for i in range(0, len(complaints.subject_content), 1):\n",
        "        # complaints['subject_content'].iloc[i] = re.sub(\"RT @[\\w_]+: \", \"\",complaints['subject_content'].iloc[i])  # Removes RT @<username>:\n",
        "        # complaints['subject_content'].iloc[i] = re.sub(\"<.*?>\", \"\", complaints['subject_content'].iloc[i])  # Removes HTML tags.\n",
        "        complaints['subject_content'].iloc[i] = re.sub(r'[^\\x00-\\x7F]+', ' ', str(complaints['subject_content'].iloc[i]))  # only ascii\n",
        "        complaints['subject_content'].iloc[i] = re.sub(' +', ' ', str(complaints['subject_content'].iloc[i]))  # replacing spaces to single space\n",
        "        complaints['subject_content'].iloc[i] = complaints['subject_content'].iloc[i].lower()  # converting to lower case\n",
        "        # complaints['subject_content'].iloc[i] = re.sub(\"[^\\w\\s]\", \"\", complaints['subject_content'].iloc[i])  # Removes punctuations\n",
        "        complaints['subject_content'].iloc[i] = re.sub('[^0-9a-zA-Z ]+', \"\", str(complaints['subject_content'].iloc[i]))  # Keeps only alphanumeric\n",
        "    return complaints\n",
        "\n",
        "\n",
        "clean_complaints = text_clean_one()"
      ],
      "execution_count": 0,
      "outputs": []
    },
    {
      "cell_type": "code",
      "metadata": {
        "id": "SiYB8yRLXoWJ",
        "colab_type": "code",
        "outputId": "e242e028-cedb-4c81-8a62-5a64105e6a38",
        "colab": {
          "base_uri": "https://localhost:8080/",
          "height": 34
        }
      },
      "source": [
        "len(clean_complaints)"
      ],
      "execution_count": 7,
      "outputs": [
        {
          "output_type": "execute_result",
          "data": {
            "text/plain": [
              "47924"
            ]
          },
          "metadata": {
            "tags": []
          },
          "execution_count": 7
        }
      ]
    },
    {
      "cell_type": "code",
      "metadata": {
        "id": "OuH--XykXoPB",
        "colab_type": "code",
        "colab": {}
      },
      "source": [
        "for j in range(0, len(clean_complaints), 1):\n",
        "    if len(clean_complaints.subject_content[j].split())< 5:\n",
        "        clean_complaints = clean_complaints.drop([j])"
      ],
      "execution_count": 0,
      "outputs": []
    },
    {
      "cell_type": "code",
      "metadata": {
        "id": "b-ZtVIRzu0H8",
        "colab_type": "code",
        "colab": {}
      },
      "source": [
        "clean_complaints1=pd.read_csv(\"clean_complaints.csv\")"
      ],
      "execution_count": 0,
      "outputs": []
    },
    {
      "cell_type": "code",
      "metadata": {
        "id": "4MsAlwZvvfYn",
        "colab_type": "code",
        "colab": {}
      },
      "source": [
        "clean_complaints1"
      ],
      "execution_count": 0,
      "outputs": []
    },
    {
      "cell_type": "code",
      "metadata": {
        "id": "sgHjOhqWXoNY",
        "colab_type": "code",
        "outputId": "6326ae39-93da-4444-c39d-c8fe9e47c2ef",
        "colab": {
          "base_uri": "https://localhost:8080/",
          "height": 34
        }
      },
      "source": [
        "reg_no = clean_complaints1.registration_no\n",
        "\n",
        "reg_no_cp = pd.DataFrame(reg_no)\n",
        "\n",
        "reg_no_cp.registration_no = reg_no_cp.registration_no.str.replace(' ', '')\n",
        "\n",
        "reg_no_cp['registration_no'].iloc[1]"
      ],
      "execution_count": 15,
      "outputs": [
        {
          "output_type": "execute_result",
          "data": {
            "text/plain": [
              "'AYUSH/E/2019/00302'"
            ]
          },
          "metadata": {
            "tags": []
          },
          "execution_count": 15
        }
      ]
    },
    {
      "cell_type": "code",
      "metadata": {
        "id": "9GRVxzXOiWzl",
        "colab_type": "code",
        "colab": {}
      },
      "source": [
        "reg_no_cp_list=list(reg_no_cp['registration_no'])"
      ],
      "execution_count": 0,
      "outputs": []
    },
    {
      "cell_type": "code",
      "metadata": {
        "id": "UwL73ycHnEKG",
        "colab_type": "code",
        "colab": {
          "base_uri": "https://localhost:8080/",
          "height": 34
        },
        "outputId": "9864838b-f535-4be6-f391-34d34f56d57f"
      },
      "source": [
        "len(reg_no_cp)"
      ],
      "execution_count": 17,
      "outputs": [
        {
          "output_type": "execute_result",
          "data": {
            "text/plain": [
              "47924"
            ]
          },
          "metadata": {
            "tags": []
          },
          "execution_count": 17
        }
      ]
    },
    {
      "cell_type": "code",
      "metadata": {
        "id": "nnEGvBJ1nSl8",
        "colab_type": "code",
        "colab": {
          "base_uri": "https://localhost:8080/",
          "height": 34
        },
        "outputId": "db91ad4b-f9f3-4ef3-d04f-02ebd1ead752"
      },
      "source": [
        "len(reg_no_cp)"
      ],
      "execution_count": 81,
      "outputs": [
        {
          "output_type": "execute_result",
          "data": {
            "text/plain": [
              "40267"
            ]
          },
          "metadata": {
            "tags": []
          },
          "execution_count": 81
        }
      ]
    },
    {
      "cell_type": "code",
      "metadata": {
        "id": "I_06uyyfLXa4",
        "colab_type": "code",
        "colab": {}
      },
      "source": [
        "check = 'TAKEN UP WITH SUBORDINATE ORGANISATION'\n",
        "org_name1 = []\n",
        "reg_number = []\n",
        "inc=0\n",
        "for i in range(len(common_reg_no)):\n",
        "    count = len(common_reg_no) - i\n",
        "    a = common_reg_no[i]\n",
        "    print(count)\n",
        "    flag = 0\n",
        "    for j in range(inc,len(movement_cpgram)):\n",
        "        b = movement_cpgram['registration_no'].iloc[j]\n",
        "        to_check = movement_cpgram['action_name'].iloc[j]\n",
        "        if a == b and check == to_check and flag == 0:\n",
        "            reg_number.append(a)\n",
        "            org_name1.append(movement_cpgram['org_name'].iloc[j])\n",
        "            flag = 1\n",
        "            inc=j"
      ],
      "execution_count": 0,
      "outputs": []
    },
    {
      "cell_type": "code",
      "metadata": {
        "id": "V3rPD9zynnI-",
        "colab_type": "code",
        "colab": {
          "base_uri": "https://localhost:8080/",
          "height": 54
        },
        "outputId": "4ce0bba6-291a-4b17-9eaf-4d7aec4c4b9a"
      },
      "source": [
        "clean_complaints.subject_conte"
      ],
      "execution_count": 85,
      "outputs": [
        {
          "output_type": "execute_result",
          "data": {
            "text/plain": [
              "'sir it is submitted that bhagat chandra hospital near mahavir enclave new delhi is giving facility of pathological tests in collaboration with max lab max lab is providing cghs rate for central government employees however bhagat chandra hospital is denying for some tests at cghs rate stating that our software is different and showing cghs rate it is requested to look into the issue and do the needfulthanking you sir u s bhagat aodelhicont no '"
            ]
          },
          "metadata": {
            "tags": []
          },
          "execution_count": 85
        }
      ]
    },
    {
      "cell_type": "code",
      "metadata": {
        "id": "PMdQfAuNeBvT",
        "colab_type": "code",
        "colab": {
          "base_uri": "https://localhost:8080/",
          "height": 221
        },
        "outputId": "d5751b40-1d76-412e-86b3-08dbcb3207d4"
      },
      "source": [
        "complaints_t=[]\n",
        "for i in range(len(org_name)):\n",
        "  for j in range(len(reg_no_cp_list)):\n",
        "    if reg_no[i]==reg_no_cp_list[j]:\n",
        "      complaints_t.append(clean_complaints.subject_content[j])\n"
      ],
      "execution_count": 86,
      "outputs": [
        {
          "output_type": "execute_result",
          "data": {
            "text/plain": [
              "0        AYUSH/E/2019/00300  \n",
              "1        AYUSH/E/2019/00302  \n",
              "2        AYUSH/E/2019/00304  \n",
              "3        AYUSH/E/2019/00327  \n",
              "4        AYUSH/E/2019/00333  \n",
              "                 ...         \n",
              "47919    DEABD/E/2019/27674  \n",
              "47920    DEABD/E/2019/27675  \n",
              "47921    DEABD/E/2019/27676  \n",
              "47922    DEABD/E/2019/27677  \n",
              "47923    DEABD/E/2019/27678  \n",
              "Name: registration_no, Length: 40267, dtype: object"
            ]
          },
          "metadata": {
            "tags": []
          },
          "execution_count": 86
        }
      ]
    },
    {
      "cell_type": "code",
      "metadata": {
        "id": "NlojiatgiqSt",
        "colab_type": "code",
        "colab": {}
      },
      "source": [
        " reg_no[0]==clean_complaints.registration_no[0]"
      ],
      "execution_count": 0,
      "outputs": []
    },
    {
      "cell_type": "code",
      "metadata": {
        "id": "mL5lQ3o_dHP4",
        "colab_type": "code",
        "colab": {}
      },
      "source": [
        "with open('org_name.txt', 'w') as filehandle:\n",
        "    for listitem in org_name1:\n",
        "        filehandle.write('%s\\n' % listitem)"
      ],
      "execution_count": 0,
      "outputs": []
    },
    {
      "cell_type": "code",
      "metadata": {
        "id": "5nDBCwFMcmL1",
        "colab_type": "code",
        "colab": {}
      },
      "source": [
        "with open('reg_no.txt', 'w') as filehandle:\n",
        "    for listitem in reg_number:\n",
        "        filehandle.write('%s\\n' % listitem)"
      ],
      "execution_count": 0,
      "outputs": []
    },
    {
      "cell_type": "code",
      "metadata": {
        "id": "78qJiGbBfal_",
        "colab_type": "code",
        "colab": {}
      },
      "source": [
        "clean_complaints1"
      ],
      "execution_count": 0,
      "outputs": []
    },
    {
      "cell_type": "code",
      "metadata": {
        "id": "ZZBVtwDiwaqG",
        "colab_type": "code",
        "colab": {}
      },
      "source": [
        "f=open('org_name.txt','r')\n",
        "org_name=f.read().splitlines()"
      ],
      "execution_count": 0,
      "outputs": []
    },
    {
      "cell_type": "code",
      "metadata": {
        "id": "sNqyYJnry1EM",
        "colab_type": "code",
        "colab": {
          "base_uri": "https://localhost:8080/",
          "height": 34
        },
        "outputId": "89076d73-5fe8-41de-a12a-c223e0024ff2"
      },
      "source": [
        "len(org_name)"
      ],
      "execution_count": 22,
      "outputs": [
        {
          "output_type": "execute_result",
          "data": {
            "text/plain": [
              "7184"
            ]
          },
          "metadata": {
            "tags": []
          },
          "execution_count": 22
        }
      ]
    },
    {
      "cell_type": "code",
      "metadata": {
        "id": "Wan23XyN0lBl",
        "colab_type": "code",
        "colab": {}
      },
      "source": [
        "f=open('reg_no.txt','r')\n",
        "reg_no=f.read().splitlines()"
      ],
      "execution_count": 0,
      "outputs": []
    },
    {
      "cell_type": "code",
      "metadata": {
        "id": "j06u8KdO7tEx",
        "colab_type": "code",
        "colab": {}
      },
      "source": [
        "f=open('complaints.txt','r')\n",
        "complaints_a=f.read().splitlines()"
      ],
      "execution_count": 0,
      "outputs": []
    },
    {
      "cell_type": "code",
      "metadata": {
        "id": "J0GGHOcF00aJ",
        "colab_type": "code",
        "colab": {
          "base_uri": "https://localhost:8080/",
          "height": 34
        },
        "outputId": "9b7bb2c5-f196-4b3d-bb28-dd2b9f12dfb1"
      },
      "source": [
        "len(reg_no)"
      ],
      "execution_count": 23,
      "outputs": [
        {
          "output_type": "execute_result",
          "data": {
            "text/plain": [
              "7184"
            ]
          },
          "metadata": {
            "tags": []
          },
          "execution_count": 23
        }
      ]
    },
    {
      "cell_type": "code",
      "metadata": {
        "id": "XD8SJVYN00XM",
        "colab_type": "code",
        "colab": {}
      },
      "source": [
        ""
      ],
      "execution_count": 0,
      "outputs": []
    },
    {
      "cell_type": "code",
      "metadata": {
        "id": "e_t7Y760Zr_D",
        "colab_type": "code",
        "colab": {}
      },
      "source": [
        "df = pd.DataFrame(org_name) "
      ],
      "execution_count": 0,
      "outputs": []
    },
    {
      "cell_type": "code",
      "metadata": {
        "id": "XWTdud9-MjhZ",
        "colab_type": "code",
        "colab": {}
      },
      "source": [
        "complaints_a=[]\n",
        "inc=0\n",
        "for i in range(len(reg_no)):\n",
        "  count = len(reg_no) - i\n",
        "  print(count)\n",
        "  a=reg_no[i]\n",
        "  for j in range(inc,len(clean_complaints1)):\n",
        "    b=reg_no_cp['registration_no'].iloc[j]\n",
        "    if a==b:\n",
        "      complaints_a.append(clean_complaints1['subject_content'].iloc[j])\n",
        "      inc=j\n",
        "      "
      ],
      "execution_count": 0,
      "outputs": []
    },
    {
      "cell_type": "code",
      "metadata": {
        "id": "oZdgI1421Z_q",
        "colab_type": "code",
        "colab": {
          "base_uri": "https://localhost:8080/",
          "height": 34
        },
        "outputId": "8a54b195-2acc-4e4a-e0e3-d833446f81ba"
      },
      "source": [
        "len(complaints_a)"
      ],
      "execution_count": 28,
      "outputs": [
        {
          "output_type": "execute_result",
          "data": {
            "text/plain": [
              "7184"
            ]
          },
          "metadata": {
            "tags": []
          },
          "execution_count": 28
        }
      ]
    },
    {
      "cell_type": "code",
      "metadata": {
        "id": "g6b3laOpIqJV",
        "colab_type": "code",
        "colab": {}
      },
      "source": [
        ""
      ],
      "execution_count": 0,
      "outputs": []
    },
    {
      "cell_type": "code",
      "metadata": {
        "id": "dMABB9R-_4k-",
        "colab_type": "code",
        "colab": {}
      },
      "source": [
        "with open('complaints.txt', 'w') as filehandle:\n",
        "    for listitem in complaints_a:\n",
        "        filehandle.write('%s\\n' % listitem)"
      ],
      "execution_count": 0,
      "outputs": []
    },
    {
      "cell_type": "code",
      "metadata": {
        "id": "GdJyPmzTEHMY",
        "colab_type": "code",
        "colab": {}
      },
      "source": [
        "data_gov = pd.DataFrame(\n",
        "    {'registration_no': reg_no,\n",
        "     'complaints': complaints_a,\n",
        "     'org_name': org_name\n",
        "    })"
      ],
      "execution_count": 0,
      "outputs": []
    },
    {
      "cell_type": "code",
      "metadata": {
        "id": "jSx9xIcyFC0c",
        "colab_type": "code",
        "colab": {}
      },
      "source": [
        "data_gov"
      ],
      "execution_count": 0,
      "outputs": []
    },
    {
      "cell_type": "code",
      "metadata": {
        "id": "G5T9bTvENwsg",
        "colab_type": "code",
        "colab": {
          "base_uri": "https://localhost:8080/",
          "height": 204
        },
        "outputId": "c909d5f3-cf4c-4470-fa67-c69506006874"
      },
      "source": [
        "data_gov.head(5)"
      ],
      "execution_count": 13,
      "outputs": [
        {
          "output_type": "execute_result",
          "data": {
            "text/html": [
              "<div>\n",
              "<style scoped>\n",
              "    .dataframe tbody tr th:only-of-type {\n",
              "        vertical-align: middle;\n",
              "    }\n",
              "\n",
              "    .dataframe tbody tr th {\n",
              "        vertical-align: top;\n",
              "    }\n",
              "\n",
              "    .dataframe thead th {\n",
              "        text-align: right;\n",
              "    }\n",
              "</style>\n",
              "<table border=\"1\" class=\"dataframe\">\n",
              "  <thead>\n",
              "    <tr style=\"text-align: right;\">\n",
              "      <th></th>\n",
              "      <th>registration_no</th>\n",
              "      <th>complaints</th>\n",
              "      <th>org_name</th>\n",
              "    </tr>\n",
              "  </thead>\n",
              "  <tbody>\n",
              "    <tr>\n",
              "      <th>0</th>\n",
              "      <td>AYUSH/E/2019/00300</td>\n",
              "      <td>sir the esic dispensary in jangpura new delhi ...</td>\n",
              "      <td>Ministry of Labour and Employment</td>\n",
              "    </tr>\n",
              "    <tr>\n",
              "      <th>1</th>\n",
              "      <td>AYUSH/E/2019/00302</td>\n",
              "      <td>sir it is submitted that bhagat chandra hospit...</td>\n",
              "      <td>Department of Health &amp; Family Welfare</td>\n",
              "    </tr>\n",
              "    <tr>\n",
              "      <th>2</th>\n",
              "      <td>AYUSH/E/2019/00304</td>\n",
              "      <td>dear siri am writing on the behalf of bindu so...</td>\n",
              "      <td>Department of Health &amp; Family Welfare</td>\n",
              "    </tr>\n",
              "    <tr>\n",
              "      <th>3</th>\n",
              "      <td>AYUSH/E/2019/00327</td>\n",
              "      <td>complaint agains aiims staff and for some help...</td>\n",
              "      <td>Department of Health &amp; Family Welfare</td>\n",
              "    </tr>\n",
              "    <tr>\n",
              "      <th>4</th>\n",
              "      <td>AYUSH/E/2019/00333</td>\n",
              "      <td>dear sir my self ashish kumar jain from uttar ...</td>\n",
              "      <td>Department of Health &amp; Family Welfare</td>\n",
              "    </tr>\n",
              "  </tbody>\n",
              "</table>\n",
              "</div>"
            ],
            "text/plain": [
              "      registration_no  ...                               org_name\n",
              "0  AYUSH/E/2019/00300  ...      Ministry of Labour and Employment\n",
              "1  AYUSH/E/2019/00302  ...  Department of Health & Family Welfare\n",
              "2  AYUSH/E/2019/00304  ...  Department of Health & Family Welfare\n",
              "3  AYUSH/E/2019/00327  ...  Department of Health & Family Welfare\n",
              "4  AYUSH/E/2019/00333  ...  Department of Health & Family Welfare\n",
              "\n",
              "[5 rows x 3 columns]"
            ]
          },
          "metadata": {
            "tags": []
          },
          "execution_count": 13
        }
      ]
    },
    {
      "cell_type": "code",
      "metadata": {
        "id": "bQWNmwEhMFKM",
        "colab_type": "code",
        "colab": {}
      },
      "source": [
        "\n",
        "# The maximum number of words to be used. (most frequent)\n",
        "MAX_NB_WORDS = 33200\n",
        "# Max number of words in each complaint.\n",
        "MAX_SEQUENCE_LENGTH = 200\n",
        "# This is fixed.\n",
        "EMBEDDING_DIM = 100\n"
      ],
      "execution_count": 0,
      "outputs": []
    },
    {
      "cell_type": "code",
      "metadata": {
        "id": "zHsPXBhgZr7P",
        "colab_type": "code",
        "colab": {
          "base_uri": "https://localhost:8080/",
          "height": 34
        },
        "outputId": "77d7ad0d-4d05-4368-861a-b01f86cda8cf"
      },
      "source": [
        "\n",
        "tokenizer = Tokenizer(num_words=MAX_NB_WORDS, filters='!\"#$%&()*+,-./:;<=>?@[\\]^_`{|}~', lower=True)\n",
        "tokenizer.fit_on_texts(data_gov['complaints'].values)\n",
        "word_index = tokenizer.word_index\n",
        "print('Found %s unique tokens.' % len(word_index))\n"
      ],
      "execution_count": 15,
      "outputs": [
        {
          "output_type": "stream",
          "text": [
            "Found 33289 unique tokens.\n"
          ],
          "name": "stdout"
        }
      ]
    },
    {
      "cell_type": "code",
      "metadata": {
        "id": "oKanO1jqJg-h",
        "colab_type": "code",
        "colab": {
          "base_uri": "https://localhost:8080/",
          "height": 34
        },
        "outputId": "8751a98f-0dc5-4c95-f753-e40192060373"
      },
      "source": [
        "tokenizer"
      ],
      "execution_count": 16,
      "outputs": [
        {
          "output_type": "execute_result",
          "data": {
            "text/plain": [
              "<keras_preprocessing.text.Tokenizer at 0x7f7193e8af28>"
            ]
          },
          "metadata": {
            "tags": []
          },
          "execution_count": 16
        }
      ]
    },
    {
      "cell_type": "code",
      "metadata": {
        "id": "FfNGUp82Jvub",
        "colab_type": "code",
        "colab": {}
      },
      "source": [
        "import pickle\n",
        "\n",
        "# saving\n",
        "\n",
        "with open('tokenizer2.pickle', 'wb') as handle:\n",
        "\n",
        "    pickle.dump(tokenizer, handle, protocol=pickle.HIGHEST_PROTOCOL)"
      ],
      "execution_count": 0,
      "outputs": []
    },
    {
      "cell_type": "code",
      "metadata": {
        "id": "EhMkgw3ir9gr",
        "colab_type": "code",
        "colab": {}
      },
      "source": [
        "# # loading\n",
        "\n",
        "# with open('tokenizer.pickle', 'rb') as handle:\n",
        "\n",
        "#     tokenizer = pickle.load(handle)"
      ],
      "execution_count": 0,
      "outputs": []
    },
    {
      "cell_type": "code",
      "metadata": {
        "id": "yUB4tWqxOGpK",
        "colab_type": "code",
        "colab": {}
      },
      "source": [
        "with open('word_index2.pkl', 'wb') as f:\n",
        "        pickle.dump(word_index, f)"
      ],
      "execution_count": 0,
      "outputs": []
    },
    {
      "cell_type": "code",
      "metadata": {
        "id": "pQNsU5iUKjEf",
        "colab_type": "code",
        "colab": {}
      },
      "source": [
        "# with open('word_index.pkl', 'rb') as handle:\n",
        "#   word_index = pickle.load(handle)"
      ],
      "execution_count": 0,
      "outputs": []
    },
    {
      "cell_type": "code",
      "metadata": {
        "id": "GS9dXDx-KexR",
        "colab_type": "code",
        "colab": {}
      },
      "source": [
        "word_index"
      ],
      "execution_count": 0,
      "outputs": []
    },
    {
      "cell_type": "code",
      "metadata": {
        "id": "_pE2FlqVOgra",
        "colab_type": "code",
        "colab": {
          "base_uri": "https://localhost:8080/",
          "height": 34
        },
        "outputId": "95d036d3-119a-4aba-e593-a8f85c0703b6"
      },
      "source": [
        "\n",
        "X = tokenizer.texts_to_sequences(data_gov['complaints'].values)\n",
        "X = pad_sequences(X, maxlen=MAX_SEQUENCE_LENGTH, padding='post')\n",
        "print('Shape of data tensor:', X.shape)\n"
      ],
      "execution_count": 56,
      "outputs": [
        {
          "output_type": "stream",
          "text": [
            "Shape of data tensor: (7184, 200)\n"
          ],
          "name": "stdout"
        }
      ]
    },
    {
      "cell_type": "code",
      "metadata": {
        "id": "XWEGxDsqZr3V",
        "colab_type": "code",
        "colab": {
          "base_uri": "https://localhost:8080/",
          "height": 34
        },
        "outputId": "ba0f78a5-b77a-4218-aa91-dc21023b2fba"
      },
      "source": [
        "\n",
        "Y = pd.get_dummies(data_gov['org_name']).values\n",
        "print('Shape of label tensor:', Y.shape)\n"
      ],
      "execution_count": 57,
      "outputs": [
        {
          "output_type": "stream",
          "text": [
            "Shape of label tensor: (7184, 23)\n"
          ],
          "name": "stdout"
        }
      ]
    },
    {
      "cell_type": "code",
      "metadata": {
        "id": "PN4bTg3_PZWf",
        "colab_type": "code",
        "colab": {}
      },
      "source": [
        "Y"
      ],
      "execution_count": 0,
      "outputs": []
    },
    {
      "cell_type": "code",
      "metadata": {
        "id": "gY7G2M59OQug",
        "colab_type": "code",
        "colab": {
          "base_uri": "https://localhost:8080/",
          "height": 51
        },
        "outputId": "d1756e3c-c9c2-49f0-994b-ae944db8d7c8"
      },
      "source": [
        "\n",
        "X_train, X_test, Y_train, Y_test = train_test_split(X,Y, test_size = 0.30, random_state = 41)\n",
        "print(X_train.shape,Y_train.shape)\n",
        "print(X_test.shape,Y_test.shape)\n"
      ],
      "execution_count": 58,
      "outputs": [
        {
          "output_type": "stream",
          "text": [
            "(5028, 200) (5028, 23)\n",
            "(2156, 200) (2156, 23)\n"
          ],
          "name": "stdout"
        }
      ]
    },
    {
      "cell_type": "code",
      "metadata": {
        "id": "Ec2SOtJtZZ2i",
        "colab_type": "code",
        "colab": {
          "base_uri": "https://localhost:8080/",
          "height": 408
        },
        "outputId": "b4529c3e-78ee-4759-aebf-673f0d6d2ffd"
      },
      "source": [
        "X[1]"
      ],
      "execution_count": 59,
      "outputs": [
        {
          "output_type": "execute_result",
          "data": {
            "text/plain": [
              "array([  129,    28,     6,    95,    20,  5404,  2107,   949,   993,\n",
              "        6164,  3565,   144,   167,     6,   179,  1385,     2,  7289,\n",
              "        4418,     7, 13751,    24,  4419,  4068,  4419,  4068,     6,\n",
              "         698,  1486,   714,     5,   362,   348,   937,    99,  5404,\n",
              "        2107,   949,     6,  3385,     5,   252,  4418,    46,  1486,\n",
              "         714,   336,    20,    58,   944,     6,   667,     4,   220,\n",
              "        1486,   714,    28,     6,    94,     3,   133,   135,     1,\n",
              "          60,     4,   134,     1,  4069,    43,   129,   806,   337,\n",
              "        5404, 13752,    19,     0,     0,     0,     0,     0,     0,\n",
              "           0,     0,     0,     0,     0,     0,     0,     0,     0,\n",
              "           0,     0,     0,     0,     0,     0,     0,     0,     0,\n",
              "           0,     0,     0,     0,     0,     0,     0,     0,     0,\n",
              "           0,     0,     0,     0,     0,     0,     0,     0,     0,\n",
              "           0,     0,     0,     0,     0,     0,     0,     0,     0,\n",
              "           0,     0,     0,     0,     0,     0,     0,     0,     0,\n",
              "           0,     0,     0,     0,     0,     0,     0,     0,     0,\n",
              "           0,     0,     0,     0,     0,     0,     0,     0,     0,\n",
              "           0,     0,     0,     0,     0,     0,     0,     0,     0,\n",
              "           0,     0,     0,     0,     0,     0,     0,     0,     0,\n",
              "           0,     0,     0,     0,     0,     0,     0,     0,     0,\n",
              "           0,     0,     0,     0,     0,     0,     0,     0,     0,\n",
              "           0,     0,     0,     0,     0,     0,     0,     0,     0,\n",
              "           0,     0], dtype=int32)"
            ]
          },
          "metadata": {
            "tags": []
          },
          "execution_count": 59
        }
      ]
    },
    {
      "cell_type": "code",
      "metadata": {
        "id": "op4MhCZKXqR1",
        "colab_type": "code",
        "colab": {
          "base_uri": "https://localhost:8080/",
          "height": 34
        },
        "outputId": "f366ed59-bbbf-40e0-aa01-630e570348c4"
      },
      "source": [
        "X.shape[1]"
      ],
      "execution_count": 53,
      "outputs": [
        {
          "output_type": "execute_result",
          "data": {
            "text/plain": [
              "200"
            ]
          },
          "metadata": {
            "tags": []
          },
          "execution_count": 53
        }
      ]
    },
    {
      "cell_type": "code",
      "metadata": {
        "id": "1ItTdLwBOUnX",
        "colab_type": "code",
        "colab": {
          "base_uri": "https://localhost:8080/",
          "height": 612
        },
        "outputId": "5acca072-8983-41b2-cadf-e36930aca772"
      },
      "source": [
        "\n",
        "model = Sequential()\n",
        "model.add(Embedding(MAX_NB_WORDS, EMBEDDING_DIM, input_length=X.shape[1]))\n",
        "model.add(LSTM(300, dropout=0.01, recurrent_dropout=0.01))\n",
        "model.add(Dense(23, activation='softmax'))\n",
        "model.compile(loss='categorical_crossentropy', optimizer='adadelta', metrics=['accuracy'])\n",
        "print(model.summary())\n",
        "\n",
        "epochs = 10\n",
        "batch_size = 32\n",
        "\n",
        "history = model.fit(X_train, Y_train, epochs=epochs, batch_size=batch_size)\n"
      ],
      "execution_count": 60,
      "outputs": [
        {
          "output_type": "stream",
          "text": [
            "Model: \"sequential_9\"\n",
            "_________________________________________________________________\n",
            "Layer (type)                 Output Shape              Param #   \n",
            "=================================================================\n",
            "embedding_9 (Embedding)      (None, 200, 100)          3320000   \n",
            "_________________________________________________________________\n",
            "lstm_12 (LSTM)               (None, 300)               481200    \n",
            "_________________________________________________________________\n",
            "dense_6 (Dense)              (None, 23)                6923      \n",
            "=================================================================\n",
            "Total params: 3,808,123\n",
            "Trainable params: 3,808,123\n",
            "Non-trainable params: 0\n",
            "_________________________________________________________________\n",
            "None\n",
            "Epoch 1/10\n",
            "5028/5028 [==============================] - 76s 15ms/step - loss: 0.3055 - acc: 0.9634\n",
            "Epoch 2/10\n",
            "5028/5028 [==============================] - 75s 15ms/step - loss: 0.2167 - acc: 0.9698\n",
            "Epoch 3/10\n",
            "5028/5028 [==============================] - 77s 15ms/step - loss: 0.2144 - acc: 0.9698\n",
            "Epoch 4/10\n",
            "5028/5028 [==============================] - 78s 15ms/step - loss: 0.2139 - acc: 0.9698\n",
            "Epoch 5/10\n",
            "5028/5028 [==============================] - 78s 15ms/step - loss: 0.2146 - acc: 0.9698\n",
            "Epoch 6/10\n",
            "5028/5028 [==============================] - 77s 15ms/step - loss: 0.2135 - acc: 0.9698\n",
            "Epoch 7/10\n",
            "5028/5028 [==============================] - 77s 15ms/step - loss: 0.2130 - acc: 0.9698\n",
            "Epoch 8/10\n",
            "5028/5028 [==============================] - 75s 15ms/step - loss: 0.2129 - acc: 0.9698\n",
            "Epoch 9/10\n",
            "5028/5028 [==============================] - 74s 15ms/step - loss: 0.2129 - acc: 0.9698\n",
            "Epoch 10/10\n",
            "5028/5028 [==============================] - 74s 15ms/step - loss: 0.2124 - acc: 0.9698\n"
          ],
          "name": "stdout"
        }
      ]
    },
    {
      "cell_type": "code",
      "metadata": {
        "id": "xJeFD1hSNJ7f",
        "colab_type": "code",
        "colab": {
          "base_uri": "https://localhost:8080/",
          "height": 85
        },
        "outputId": "f6c9a481-9a58-471d-93dd-d51db9266955"
      },
      "source": [
        "\n",
        "accr = model.evaluate(X_test,Y_test)\n",
        "print('Test set\\n  Loss: {:0.3f}\\n  Accuracy: {:0.3f}'.format(accr[0],accr[1]))\n",
        "\n"
      ],
      "execution_count": 61,
      "outputs": [
        {
          "output_type": "stream",
          "text": [
            "2156/2156 [==============================] - 13s 6ms/step\n",
            "Test set\n",
            "  Loss: 0.184\n",
            "  Accuracy: 0.974\n"
          ],
          "name": "stdout"
        }
      ]
    },
    {
      "cell_type": "code",
      "metadata": {
        "id": "P5UjNGB2OXMT",
        "colab_type": "code",
        "colab": {
          "base_uri": "https://localhost:8080/",
          "height": 85
        },
        "outputId": "8c39df8e-1536-4b0d-cf75-c34e3442585e"
      },
      "source": [
        "\n",
        "accr = model.evaluate(X_test,Y_test)\n",
        "print('Test set\\n  Loss: {:0.3f}\\n  Accuracy: {:0.3f}'.format(accr[0],accr[1]))\n",
        "\n"
      ],
      "execution_count": 86,
      "outputs": [
        {
          "output_type": "stream",
          "text": [
            "719/719 [==============================] - 3s 4ms/step\n",
            "Test set\n",
            "  Loss: 0.261\n",
            "  Accuracy: 0.964\n"
          ],
          "name": "stdout"
        }
      ]
    },
    {
      "cell_type": "code",
      "metadata": {
        "id": "OF8i119NOcXp",
        "colab_type": "code",
        "colab": {}
      },
      "source": [
        "\n",
        "model.save('model_gov4.h5')"
      ],
      "execution_count": 0,
      "outputs": []
    },
    {
      "cell_type": "code",
      "metadata": {
        "id": "FDSpULBrOZz7",
        "colab_type": "code",
        "colab": {}
      },
      "source": [
        "from keras.models import load_model\n",
        "model2 = load_model('model_gov4.h5')\n"
      ],
      "execution_count": 0,
      "outputs": []
    },
    {
      "cell_type": "code",
      "metadata": {
        "id": "Egzs94SzT4vD",
        "colab_type": "code",
        "colab": {}
      },
      "source": [
        "import numpy as np"
      ],
      "execution_count": 0,
      "outputs": []
    },
    {
      "cell_type": "code",
      "metadata": {
        "id": "AqxTGpbMRHtP",
        "colab_type": "code",
        "colab": {
          "base_uri": "https://localhost:8080/",
          "height": 102
        },
        "outputId": "12d50b30-b8ac-4a8e-fd10-262a28614e96"
      },
      "source": [
        "\n",
        "new_complaint = ['Respected SirThe return of total income for A.Y. ****-** ****-** and ****-** were filed by us on **/**/**** **/**/**** and **/**/**** vide acknowledgment No. ****** ***** and ***** claiming refunds of Rs. Rs.*****/- Rs.*****/- and Rs.****/- respectively. Sir we have approached the income tax department many times personally and through our authorized representative for issue of the aforesaid refunds however no response is received from income tax department till date. We have filed grievance on CPGRAMS vide Reference No. CBODT/E/****/***** that was erroneously disposed off without issuing the refund by assuming that the grievance was filed in name of M/s. R C Transport however the same was filed for the firm M/s. S A Transport. It is requested that necessary directions may please be given to the concerned authorities for our application for issue of refund and oblige.']\n",
        "seq = tokenizer.texts_to_sequences(new_complaint)\n",
        "padded = pad_sequences(seq, maxlen=MAX_SEQUENCE_LENGTH, padding='post')\n",
        "pred = model2.predict(padded)\n",
        "\n",
        "# labels = ['Credit reporting, credit repair services, or other personal consumer reports', 'Debt collection', 'Mortgage', 'Credit card or prepaid card', 'Student loan', 'Bank account or service', 'Checking or savings account', 'Consumer Loan', 'Payday loan, title loan, or personal loan', 'Vehicle loan or lease', 'Money transfer, virtual currency, or money service', 'Money transfers', 'Prepaid card']\n",
        "labels=['Ministry of Labour and Employment','Department of Health & Family Welfare','Department of Higher Education', 'Department of Defence','Government of NCT of Delhi','Central Board of Direct Taxes (Income Tax)','Ministry of Railways ( Railway Board)','Department of Financial Services (Banking Division)','Department of Posts', 'Department of Telecommunications','Department of Defence Finance','Central Board of Indirect Taxes and Customs','Ministry of Housing and Urban Affairs','Ministry of Home Affairs','Ministry of Petroleum and Natural Gas','Ministry of External Affairs','Department of Personnel and Training','Government of Madhya Pradesh', 'Government of Tamil Nadu','Government of Gujarat', 'Government of Puducherry','Government of Haryana','Department of Financial Services (Insurance Division)']\n",
        "print(pred, labels[np.argmax(pred)])\n"
      ],
      "execution_count": 69,
      "outputs": [
        {
          "output_type": "stream",
          "text": [
            "[[9.6809196e-01 6.4043561e-03 4.4058511e-04 1.9994983e-04 8.1002517e-03\n",
            "  2.0437785e-04 3.3861196e-03 1.3313917e-03 2.0749736e-04 7.6414977e-04\n",
            "  1.0463382e-03 3.2764181e-04 2.0526817e-04 2.0310769e-04 1.9155629e-04\n",
            "  1.2346150e-03 1.9496924e-04 2.0484110e-04 1.1158902e-03 1.8884114e-04\n",
            "  4.0275818e-03 2.0182076e-04 1.7269382e-03]] Ministry of Labour and Employment\n"
          ],
          "name": "stdout"
        }
      ]
    },
    {
      "cell_type": "code",
      "metadata": {
        "id": "DG1RUpiDRqg1",
        "colab_type": "code",
        "colab": {}
      },
      "source": [
        "# labels=['Ministry of Labour and Employment','Department of Health & Family Welfare','Department of Higher Education', 'Department of Defence','Government of NCT of Delhi','Central Board of Direct Taxes (Income Tax)','Ministry of Railways ( Railway Board)','Department of Financial Services (Banking Division)','Department of Posts', 'Department of Telecommunications','Department of Defence Finance','Central Board of Indirect Taxes and Customs','Ministry of Housing and Urban Affairs','Ministry of Home Affairs','Ministry of Petroleum and Natural Gas','Ministry of External Affairs','Department of Personnel and Training','Government of Madhya Pradesh', 'Government of Tamil Nadu','Government of Gujarat', 'Government of Puducherry','Government of Haryana','Department of Financial Services (Insurance Division)']"
      ],
      "execution_count": 0,
      "outputs": []
    },
    {
      "cell_type": "code",
      "metadata": {
        "id": "jcvwI4x6SK3Y",
        "colab_type": "code",
        "colab": {
          "base_uri": "https://localhost:8080/",
          "height": 34
        },
        "outputId": "d56adef6-d57c-443c-e3f6-785b2a384516"
      },
      "source": [
        "len(labels)"
      ],
      "execution_count": 54,
      "outputs": [
        {
          "output_type": "execute_result",
          "data": {
            "text/plain": [
              "23"
            ]
          },
          "metadata": {
            "tags": []
          },
          "execution_count": 54
        }
      ]
    },
    {
      "cell_type": "code",
      "metadata": {
        "id": "Ni2aif1QRbGq",
        "colab_type": "code",
        "colab": {
          "base_uri": "https://localhost:8080/",
          "height": 357
        },
        "outputId": "550a29c2-3aa8-4f1e-9be3-47a5ccd59c65"
      },
      "source": [
        "data_gov['org_name'].unique()"
      ],
      "execution_count": 73,
      "outputs": [
        {
          "output_type": "execute_result",
          "data": {
            "text/plain": [
              "array(['Ministry of Labour and Employment',\n",
              "       'Department of Health & Family Welfare',\n",
              "       'Department of Higher Education', 'Department of Defence',\n",
              "       'Government of NCT of Delhi',\n",
              "       'Central Board of Direct Taxes (Income Tax)',\n",
              "       'Ministry of Railways ( Railway Board)',\n",
              "       'Department of Financial Services (Banking Division)',\n",
              "       'Department of Posts', 'Department of Telecommunications',\n",
              "       'Department of Defence Finance',\n",
              "       'Central Board of Indirect Taxes and Customs',\n",
              "       'Ministry of Housing and Urban Affairs',\n",
              "       'Ministry of Home Affairs',\n",
              "       'Ministry of Petroleum and Natural Gas',\n",
              "       'Ministry of External Affairs',\n",
              "       'Department of Personnel and Training',\n",
              "       'Government of Madhya Pradesh', 'Government of Tamil Nadu',\n",
              "       'Government of Gujarat', 'Government of Puducherry',\n",
              "       'Government of Haryana',\n",
              "       'Department of Financial Services (Insurance Division)'],\n",
              "      dtype=object)"
            ]
          },
          "metadata": {
            "tags": []
          },
          "execution_count": 73
        }
      ]
    },
    {
      "cell_type": "code",
      "metadata": {
        "id": "LcYeH7YYWvX0",
        "colab_type": "code",
        "colab": {
          "base_uri": "https://localhost:8080/",
          "height": 102
        },
        "outputId": "c573a61a-79d0-4615-caaf-6e2f6c9d0146"
      },
      "source": [
        "\n",
        "new_complaint = ['RESPECTED SIR/MADAMI HAVE FILED FOR REFUND OF MY TAX UNDER APPEAL EFFECT ON **-**-**** THEN ON **-**-**** AND THEREAFTER ON **-**-**** BUT TILL DATE I HAVE NOT RECEIVED ANY CONFIRMATION ABOUT MY REFUND. I AM OLD AND IN NEED OF THIS REFUND TO LOOK AFTER MYSELF. PLEASE DO THE NEEDFUL AT THE EARLIEST. THE REFUND BELONGS TO ASSESSMENT YEARS ****-** *****-** AND ****-**. MY PAN IS AMEPR****A. COPY OF ASSESSMENT ORDER HAS BEEN ATTACHED FOR YOUR REFERENCE.']\n",
        "seq = tokenizer.texts_to_sequences(new_complaint)\n",
        "padded = pad_sequences(seq, maxlen=MAX_SEQUENCE_LENGTH,padding='post')\n",
        "pred = model2.predict(padded)\n",
        "\n",
        "# labels = ['Credit reporting, credit repair services, or other personal consumer reports', 'Debt collection', 'Mortgage', 'Credit card or prepaid card', 'Student loan', 'Bank account or service', 'Checking or savings account', 'Consumer Loan', 'Payday loan, title loan, or personal loan', 'Vehicle loan or lease', 'Money transfer, virtual currency, or money service', 'Money transfers', 'Prepaid card']\n",
        "labels=['Ministry of Labour and Employment','Department of Health & Family Welfare','Department of Higher Education', 'Department of Defence','Government of NCT of Delhi','Central Board of Direct Taxes (Income Tax)','Ministry of Railways ( Railway Board)','Department of Financial Services (Banking Division)','Department of Posts', 'Department of Telecommunications','Department of Defence Finance','Central Board of Indirect Taxes and Customs','Ministry of Housing and Urban Affairs','Ministry of Home Affairs','Ministry of Petroleum and Natural Gas','Ministry of External Affairs','Department of Personnel and Training','Government of Madhya Pradesh', 'Government of Tamil Nadu','Government of Gujarat', 'Government of Puducherry','Government of Haryana','Department of Financial Services (Insurance Division)']\n",
        "print(pred, labels[np.argmax(pred)])"
      ],
      "execution_count": 70,
      "outputs": [
        {
          "output_type": "stream",
          "text": [
            "[[9.6809196e-01 6.4043561e-03 4.4058511e-04 1.9994983e-04 8.1002517e-03\n",
            "  2.0437785e-04 3.3861196e-03 1.3313917e-03 2.0749736e-04 7.6414977e-04\n",
            "  1.0463382e-03 3.2764216e-04 2.0526817e-04 2.0310748e-04 1.9155629e-04\n",
            "  1.2346150e-03 1.9496924e-04 2.0484110e-04 1.1158902e-03 1.8884114e-04\n",
            "  4.0275818e-03 2.0182076e-04 1.7269382e-03]] Ministry of Labour and Employment\n"
          ],
          "name": "stdout"
        }
      ]
    },
    {
      "cell_type": "code",
      "metadata": {
        "id": "FOfy_C3iXJt7",
        "colab_type": "code",
        "colab": {}
      },
      "source": [
        ""
      ],
      "execution_count": 0,
      "outputs": []
    },
    {
      "cell_type": "code",
      "metadata": {
        "id": "tZsme84IWuSG",
        "colab_type": "code",
        "colab": {
          "base_uri": "https://localhost:8080/",
          "height": 102
        },
        "outputId": "24e919cc-f6b0-4290-9f37-1c45e6e27bdd"
      },
      "source": [
        "\n",
        "new_complaint = ['I had submitted original documents of house ( H. NO. *** Sector - ** Panchkula ) with Central Excise Commissioner ate  Chandigarh -II for obtaining Home loan from the department  . On */*/** I requested for release of the same.  enclosing there with the No Dues Certificate issued by the DDO Customs Commissioner ate  Ludhiana  my last place of posting from where I had taken VRS . So for I have received only one reply (through mail ) on */*/** from the AO (ET-II) GST Sub- Commissioer ate Mohali  forwarding thereunder the copy of their letter written to A C Customs for verification . It was mentioned that my request will be considered after getting reply . Now period of almost one and half year has elapsed but no communication for release of  documents been communicated to me  despite my repeated requests. Please take up the issue with the concerned . Regards . Subhash Batra  Retired Assistant Commissioner']\n",
        "seq = tokenizer.texts_to_sequences(new_complaint)\n",
        "padded = pad_sequences(seq, maxlen=MAX_SEQUENCE_LENGTH)\n",
        "pred = model2.predict(padded)\n",
        "\n",
        "# labels = ['Credit reporting, credit repair services, or other personal consumer reports', 'Debt collection', 'Mortgage', 'Credit card or prepaid card', 'Student loan', 'Bank account or service', 'Checking or savings account', 'Consumer Loan', 'Payday loan, title loan, or personal loan', 'Vehicle loan or lease', 'Money transfer, virtual currency, or money service', 'Money transfers', 'Prepaid card']\n",
        "labels=['Ministry of Labour and Employment','Department of Health & Family Welfare','Department of Higher Education', 'Department of Defence','Government of NCT of Delhi','Central Board of Direct Taxes (Income Tax)','Ministry of Railways ( Railway Board)','Department of Financial Services (Banking Division)','Department of Posts', 'Department of Telecommunications','Department of Defence Finance','Central Board of Indirect Taxes and Customs','Ministry of Housing and Urban Affairs','Ministry of Home Affairs','Ministry of Petroleum and Natural Gas','Ministry of External Affairs','Department of Personnel and Training','Government of Madhya Pradesh', 'Government of Tamil Nadu','Government of Gujarat', 'Government of Puducherry','Government of Haryana','Department of Financial Services (Insurance Division)']\n",
        "print(pred, labels[np.argmax(pred)])"
      ],
      "execution_count": 52,
      "outputs": [
        {
          "output_type": "stream",
          "text": [
            "[[9.9999285e-01 1.3211331e-07 1.9077778e-08 1.5711244e-07 3.2045693e-06\n",
            "  4.2470166e-08 1.4298246e-08 4.8139416e-08 9.6021668e-10 9.5719450e-09\n",
            "  7.2187265e-07 4.9875784e-09 5.0462932e-09 2.6269960e-09 1.9121444e-09\n",
            "  2.5923872e-09 2.4094304e-09 5.9235057e-09 3.7456762e-09 7.4570600e-08\n",
            "  2.7384949e-06 1.5255592e-09 2.5984777e-08]] Ministry of Labour and Employment\n"
          ],
          "name": "stdout"
        }
      ]
    },
    {
      "cell_type": "code",
      "metadata": {
        "id": "z9w3-XzcKDAB",
        "colab_type": "code",
        "colab": {
          "base_uri": "https://localhost:8080/",
          "height": 793
        },
        "outputId": "5588f5f3-0ada-46e1-c47c-ae9130c00192"
      },
      "source": [
        "data_gov.groupby('org_name').count()"
      ],
      "execution_count": 33,
      "outputs": [
        {
          "output_type": "execute_result",
          "data": {
            "text/html": [
              "<div>\n",
              "<style scoped>\n",
              "    .dataframe tbody tr th:only-of-type {\n",
              "        vertical-align: middle;\n",
              "    }\n",
              "\n",
              "    .dataframe tbody tr th {\n",
              "        vertical-align: top;\n",
              "    }\n",
              "\n",
              "    .dataframe thead th {\n",
              "        text-align: right;\n",
              "    }\n",
              "</style>\n",
              "<table border=\"1\" class=\"dataframe\">\n",
              "  <thead>\n",
              "    <tr style=\"text-align: right;\">\n",
              "      <th></th>\n",
              "      <th>registration_no</th>\n",
              "      <th>complaints</th>\n",
              "    </tr>\n",
              "    <tr>\n",
              "      <th>org_name</th>\n",
              "      <th></th>\n",
              "      <th></th>\n",
              "    </tr>\n",
              "  </thead>\n",
              "  <tbody>\n",
              "    <tr>\n",
              "      <th>Central Board of Direct Taxes (Income Tax)</th>\n",
              "      <td>6975</td>\n",
              "      <td>6975</td>\n",
              "    </tr>\n",
              "    <tr>\n",
              "      <th>Central Board of Indirect Taxes and Customs</th>\n",
              "      <td>48</td>\n",
              "      <td>48</td>\n",
              "    </tr>\n",
              "    <tr>\n",
              "      <th>Department of Defence</th>\n",
              "      <td>5</td>\n",
              "      <td>5</td>\n",
              "    </tr>\n",
              "    <tr>\n",
              "      <th>Department of Defence Finance</th>\n",
              "      <td>1</td>\n",
              "      <td>1</td>\n",
              "    </tr>\n",
              "    <tr>\n",
              "      <th>Department of Financial Services (Banking Division)</th>\n",
              "      <td>40</td>\n",
              "      <td>40</td>\n",
              "    </tr>\n",
              "    <tr>\n",
              "      <th>Department of Financial Services (Insurance Division)</th>\n",
              "      <td>1</td>\n",
              "      <td>1</td>\n",
              "    </tr>\n",
              "    <tr>\n",
              "      <th>Department of Health &amp; Family Welfare</th>\n",
              "      <td>25</td>\n",
              "      <td>25</td>\n",
              "    </tr>\n",
              "    <tr>\n",
              "      <th>Department of Higher Education</th>\n",
              "      <td>6</td>\n",
              "      <td>6</td>\n",
              "    </tr>\n",
              "    <tr>\n",
              "      <th>Department of Personnel and Training</th>\n",
              "      <td>1</td>\n",
              "      <td>1</td>\n",
              "    </tr>\n",
              "    <tr>\n",
              "      <th>Department of Posts</th>\n",
              "      <td>5</td>\n",
              "      <td>5</td>\n",
              "    </tr>\n",
              "    <tr>\n",
              "      <th>Department of Telecommunications</th>\n",
              "      <td>9</td>\n",
              "      <td>9</td>\n",
              "    </tr>\n",
              "    <tr>\n",
              "      <th>Government of Gujarat</th>\n",
              "      <td>2</td>\n",
              "      <td>2</td>\n",
              "    </tr>\n",
              "    <tr>\n",
              "      <th>Government of Haryana</th>\n",
              "      <td>2</td>\n",
              "      <td>2</td>\n",
              "    </tr>\n",
              "    <tr>\n",
              "      <th>Government of Madhya Pradesh</th>\n",
              "      <td>2</td>\n",
              "      <td>2</td>\n",
              "    </tr>\n",
              "    <tr>\n",
              "      <th>Government of NCT of Delhi</th>\n",
              "      <td>1</td>\n",
              "      <td>1</td>\n",
              "    </tr>\n",
              "    <tr>\n",
              "      <th>Government of Puducherry</th>\n",
              "      <td>10</td>\n",
              "      <td>10</td>\n",
              "    </tr>\n",
              "    <tr>\n",
              "      <th>Government of Tamil Nadu</th>\n",
              "      <td>1</td>\n",
              "      <td>1</td>\n",
              "    </tr>\n",
              "    <tr>\n",
              "      <th>Ministry of External Affairs</th>\n",
              "      <td>2</td>\n",
              "      <td>2</td>\n",
              "    </tr>\n",
              "    <tr>\n",
              "      <th>Ministry of Home Affairs</th>\n",
              "      <td>10</td>\n",
              "      <td>10</td>\n",
              "    </tr>\n",
              "    <tr>\n",
              "      <th>Ministry of Housing and Urban Affairs</th>\n",
              "      <td>1</td>\n",
              "      <td>1</td>\n",
              "    </tr>\n",
              "    <tr>\n",
              "      <th>Ministry of Labour and Employment</th>\n",
              "      <td>25</td>\n",
              "      <td>25</td>\n",
              "    </tr>\n",
              "    <tr>\n",
              "      <th>Ministry of Petroleum and Natural Gas</th>\n",
              "      <td>2</td>\n",
              "      <td>2</td>\n",
              "    </tr>\n",
              "    <tr>\n",
              "      <th>Ministry of Railways ( Railway Board)</th>\n",
              "      <td>10</td>\n",
              "      <td>10</td>\n",
              "    </tr>\n",
              "  </tbody>\n",
              "</table>\n",
              "</div>"
            ],
            "text/plain": [
              "                                                    registration_no  complaints\n",
              "org_name                                                                       \n",
              "Central Board of Direct Taxes (Income Tax)                     6975        6975\n",
              "Central Board of Indirect Taxes and Customs                      48          48\n",
              "Department of Defence                                             5           5\n",
              "Department of Defence Finance                                     1           1\n",
              "Department of Financial Services (Banking Divis...               40          40\n",
              "Department of Financial Services (Insurance Div...                1           1\n",
              "Department of Health & Family Welfare                            25          25\n",
              "Department of Higher Education                                    6           6\n",
              "Department of Personnel and Training                              1           1\n",
              "Department of Posts                                               5           5\n",
              "Department of Telecommunications                                  9           9\n",
              "Government of Gujarat                                             2           2\n",
              "Government of Haryana                                             2           2\n",
              "Government of Madhya Pradesh                                      2           2\n",
              "Government of NCT of Delhi                                        1           1\n",
              "Government of Puducherry                                         10          10\n",
              "Government of Tamil Nadu                                          1           1\n",
              "Ministry of External Affairs                                      2           2\n",
              "Ministry of Home Affairs                                         10          10\n",
              "Ministry of Housing and Urban Affairs                             1           1\n",
              "Ministry of Labour and Employment                                25          25\n",
              "Ministry of Petroleum and Natural Gas                             2           2\n",
              "Ministry of Railways ( Railway Board)                            10          10"
            ]
          },
          "metadata": {
            "tags": []
          },
          "execution_count": 33
        }
      ]
    }
  ]
}